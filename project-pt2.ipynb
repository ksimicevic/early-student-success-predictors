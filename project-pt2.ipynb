{
 "cells": [
  {
   "cell_type": "markdown",
   "source": [
    "## Early Predictor for Student Success Based on Behavioural and Demographical Indicators"
   ],
   "metadata": {
    "collapsed": false
   }
  },
  {
   "cell_type": "markdown",
   "source": [
    "Import libraries"
   ],
   "metadata": {
    "collapsed": false
   }
  },
  {
   "cell_type": "code",
   "execution_count": 1,
   "outputs": [],
   "source": [
    "import zipfile\n",
    "import numpy as np\n",
    "import matplotlib.pyplot as plt\n",
    "import pandas as pd\n",
    "import seaborn as sns"
   ],
   "metadata": {
    "collapsed": false,
    "pycharm": {
     "name": "#%%\n"
    }
   }
  },
  {
   "cell_type": "markdown",
   "source": [
    "Load data"
   ],
   "metadata": {
    "collapsed": false
   }
  },
  {
   "cell_type": "code",
   "execution_count": 2,
   "outputs": [],
   "source": [
    "zf = zipfile.ZipFile('./data.zip')\n",
    "student_info = pd.read_csv(zf.open('studentInfo.csv'))\n",
    "student_vle = pd.read_csv(zf.open('studentVle.csv'))\n",
    "student_assessment = pd.read_csv(zf.open('studentAssessment.csv'))\n",
    "student_registration = pd.read_csv(zf.open('studentRegistration.csv'))\n",
    "assessments = pd.read_csv(zf.open('assessments.csv'))"
   ],
   "metadata": {
    "collapsed": false,
    "pycharm": {
     "name": "#%%\n"
    }
   }
  },
  {
   "cell_type": "markdown",
   "source": [
    "Basic information about modules, first assessments and number of registered students"
   ],
   "metadata": {
    "collapsed": false
   }
  },
  {
   "cell_type": "code",
   "execution_count": 3,
   "outputs": [
    {
     "data": {
      "text/plain": "   code_module code_presentation  id_assessment  date  \\\n0          AAA             2013J           1752  19.0   \n1          AAA             2014J           1758  19.0   \n2          BBB             2013B          14984  19.0   \n3          BBB             2013J          14996  19.0   \n4          BBB             2014B          15008  12.0   \n5          BBB             2014J          15020  19.0   \n6          CCC             2014B          24286  18.0   \n7          CCC             2014J          24295  18.0   \n8          DDD             2013B          25341  23.0   \n9          DDD             2013J          25348  25.0   \n10         DDD             2014B          25355  25.0   \n11         DDD             2014J          25362  20.0   \n12         EEE             2013J          30709  33.0   \n13         EEE             2014B          30714  33.0   \n14         EEE             2014J          30719  33.0   \n15         FFF             2013B          34860  19.0   \n16         FFF             2013J          34873  19.0   \n17         FFF             2014B          34886  24.0   \n18         FFF             2014J          34899  24.0   \n19         GGG             2013J          37415  61.0   \n20         GGG             2014B          37425  61.0   \n21         GGG             2014J          37435  61.0   \n\n    number of registered students  \n0                             383  \n1                             365  \n2                            1767  \n3                            2237  \n4                            1613  \n5                            2292  \n6                            1936  \n7                            2498  \n8                            1303  \n9                            1938  \n10                           1228  \n11                           1803  \n12                           1052  \n13                            694  \n14                           1188  \n15                           1614  \n16                           2283  \n17                           1500  \n18                           2365  \n19                            952  \n20                            833  \n21                            749  ",
      "text/html": "<div>\n<style scoped>\n    .dataframe tbody tr th:only-of-type {\n        vertical-align: middle;\n    }\n\n    .dataframe tbody tr th {\n        vertical-align: top;\n    }\n\n    .dataframe thead th {\n        text-align: right;\n    }\n</style>\n<table border=\"1\" class=\"dataframe\">\n  <thead>\n    <tr style=\"text-align: right;\">\n      <th></th>\n      <th>code_module</th>\n      <th>code_presentation</th>\n      <th>id_assessment</th>\n      <th>date</th>\n      <th>number of registered students</th>\n    </tr>\n  </thead>\n  <tbody>\n    <tr>\n      <th>0</th>\n      <td>AAA</td>\n      <td>2013J</td>\n      <td>1752</td>\n      <td>19.0</td>\n      <td>383</td>\n    </tr>\n    <tr>\n      <th>1</th>\n      <td>AAA</td>\n      <td>2014J</td>\n      <td>1758</td>\n      <td>19.0</td>\n      <td>365</td>\n    </tr>\n    <tr>\n      <th>2</th>\n      <td>BBB</td>\n      <td>2013B</td>\n      <td>14984</td>\n      <td>19.0</td>\n      <td>1767</td>\n    </tr>\n    <tr>\n      <th>3</th>\n      <td>BBB</td>\n      <td>2013J</td>\n      <td>14996</td>\n      <td>19.0</td>\n      <td>2237</td>\n    </tr>\n    <tr>\n      <th>4</th>\n      <td>BBB</td>\n      <td>2014B</td>\n      <td>15008</td>\n      <td>12.0</td>\n      <td>1613</td>\n    </tr>\n    <tr>\n      <th>5</th>\n      <td>BBB</td>\n      <td>2014J</td>\n      <td>15020</td>\n      <td>19.0</td>\n      <td>2292</td>\n    </tr>\n    <tr>\n      <th>6</th>\n      <td>CCC</td>\n      <td>2014B</td>\n      <td>24286</td>\n      <td>18.0</td>\n      <td>1936</td>\n    </tr>\n    <tr>\n      <th>7</th>\n      <td>CCC</td>\n      <td>2014J</td>\n      <td>24295</td>\n      <td>18.0</td>\n      <td>2498</td>\n    </tr>\n    <tr>\n      <th>8</th>\n      <td>DDD</td>\n      <td>2013B</td>\n      <td>25341</td>\n      <td>23.0</td>\n      <td>1303</td>\n    </tr>\n    <tr>\n      <th>9</th>\n      <td>DDD</td>\n      <td>2013J</td>\n      <td>25348</td>\n      <td>25.0</td>\n      <td>1938</td>\n    </tr>\n    <tr>\n      <th>10</th>\n      <td>DDD</td>\n      <td>2014B</td>\n      <td>25355</td>\n      <td>25.0</td>\n      <td>1228</td>\n    </tr>\n    <tr>\n      <th>11</th>\n      <td>DDD</td>\n      <td>2014J</td>\n      <td>25362</td>\n      <td>20.0</td>\n      <td>1803</td>\n    </tr>\n    <tr>\n      <th>12</th>\n      <td>EEE</td>\n      <td>2013J</td>\n      <td>30709</td>\n      <td>33.0</td>\n      <td>1052</td>\n    </tr>\n    <tr>\n      <th>13</th>\n      <td>EEE</td>\n      <td>2014B</td>\n      <td>30714</td>\n      <td>33.0</td>\n      <td>694</td>\n    </tr>\n    <tr>\n      <th>14</th>\n      <td>EEE</td>\n      <td>2014J</td>\n      <td>30719</td>\n      <td>33.0</td>\n      <td>1188</td>\n    </tr>\n    <tr>\n      <th>15</th>\n      <td>FFF</td>\n      <td>2013B</td>\n      <td>34860</td>\n      <td>19.0</td>\n      <td>1614</td>\n    </tr>\n    <tr>\n      <th>16</th>\n      <td>FFF</td>\n      <td>2013J</td>\n      <td>34873</td>\n      <td>19.0</td>\n      <td>2283</td>\n    </tr>\n    <tr>\n      <th>17</th>\n      <td>FFF</td>\n      <td>2014B</td>\n      <td>34886</td>\n      <td>24.0</td>\n      <td>1500</td>\n    </tr>\n    <tr>\n      <th>18</th>\n      <td>FFF</td>\n      <td>2014J</td>\n      <td>34899</td>\n      <td>24.0</td>\n      <td>2365</td>\n    </tr>\n    <tr>\n      <th>19</th>\n      <td>GGG</td>\n      <td>2013J</td>\n      <td>37415</td>\n      <td>61.0</td>\n      <td>952</td>\n    </tr>\n    <tr>\n      <th>20</th>\n      <td>GGG</td>\n      <td>2014B</td>\n      <td>37425</td>\n      <td>61.0</td>\n      <td>833</td>\n    </tr>\n    <tr>\n      <th>21</th>\n      <td>GGG</td>\n      <td>2014J</td>\n      <td>37435</td>\n      <td>61.0</td>\n      <td>749</td>\n    </tr>\n  </tbody>\n</table>\n</div>"
     },
     "execution_count": 3,
     "metadata": {},
     "output_type": "execute_result"
    }
   ],
   "source": [
    "# Get information about first day assessments\n",
    "basic_info = assessments.filter(items=['code_module', 'code_presentation', 'date'])\n",
    "basic_info = basic_info.groupby(['code_module', 'code_presentation']).min()\n",
    "basic_info = pd.merge(basic_info, assessments, on=['code_module', 'code_presentation', 'date'],\n",
    "                             how='inner').filter(items=['code_module', 'code_presentation', 'id_assessment', 'date'])\n",
    "\n",
    "# Get total number of registered students for each module\n",
    "registrations = student_registration.filter(items=['code_module', 'code_presentation', 'id_student']).groupby(\n",
    "    ['code_module', 'code_presentation']).count().reset_index()\n",
    "basic_info.insert(4, \"number of registered students\", registrations['id_student'])\n",
    "basic_info"
   ],
   "metadata": {
    "collapsed": false,
    "pycharm": {
     "name": "#%%\n"
    }
   }
  },
  {
   "cell_type": "markdown",
   "source": [
    "### Data preparation"
   ],
   "metadata": {
    "collapsed": false
   }
  },
  {
   "cell_type": "code",
   "execution_count": 4,
   "outputs": [
    {
     "data": {
      "text/plain": "   id_student gender      highest_education    age  previous_attempts  \\\n0       11391      M       HE Qualification   55<=                  0   \n1       28400      F       HE Qualification  35-55                  0   \n2       30268      F  A Level or Equivalent  35-55                  0   \n3       31604      F  A Level or Equivalent  35-55                  0   \n4       32885      F     Lower Than A Level   0-35                  0   \n\n  disability  first_assignment  date_registration  clicks_before_start  \\\n0          N              78.0             -159.0                 98.0   \n1          N              70.0              -53.0                215.0   \n2          Y               0.0              -92.0                102.0   \n3          N              72.0              -52.0                169.0   \n4          N              69.0             -176.0                295.0   \n\n  final_result  \n0         Pass  \n1         Pass  \n2    Withdrawn  \n3         Pass  \n4         Pass  ",
      "text/html": "<div>\n<style scoped>\n    .dataframe tbody tr th:only-of-type {\n        vertical-align: middle;\n    }\n\n    .dataframe tbody tr th {\n        vertical-align: top;\n    }\n\n    .dataframe thead th {\n        text-align: right;\n    }\n</style>\n<table border=\"1\" class=\"dataframe\">\n  <thead>\n    <tr style=\"text-align: right;\">\n      <th></th>\n      <th>id_student</th>\n      <th>gender</th>\n      <th>highest_education</th>\n      <th>age</th>\n      <th>previous_attempts</th>\n      <th>disability</th>\n      <th>first_assignment</th>\n      <th>date_registration</th>\n      <th>clicks_before_start</th>\n      <th>final_result</th>\n    </tr>\n  </thead>\n  <tbody>\n    <tr>\n      <th>0</th>\n      <td>11391</td>\n      <td>M</td>\n      <td>HE Qualification</td>\n      <td>55&lt;=</td>\n      <td>0</td>\n      <td>N</td>\n      <td>78.0</td>\n      <td>-159.0</td>\n      <td>98.0</td>\n      <td>Pass</td>\n    </tr>\n    <tr>\n      <th>1</th>\n      <td>28400</td>\n      <td>F</td>\n      <td>HE Qualification</td>\n      <td>35-55</td>\n      <td>0</td>\n      <td>N</td>\n      <td>70.0</td>\n      <td>-53.0</td>\n      <td>215.0</td>\n      <td>Pass</td>\n    </tr>\n    <tr>\n      <th>2</th>\n      <td>30268</td>\n      <td>F</td>\n      <td>A Level or Equivalent</td>\n      <td>35-55</td>\n      <td>0</td>\n      <td>Y</td>\n      <td>0.0</td>\n      <td>-92.0</td>\n      <td>102.0</td>\n      <td>Withdrawn</td>\n    </tr>\n    <tr>\n      <th>3</th>\n      <td>31604</td>\n      <td>F</td>\n      <td>A Level or Equivalent</td>\n      <td>35-55</td>\n      <td>0</td>\n      <td>N</td>\n      <td>72.0</td>\n      <td>-52.0</td>\n      <td>169.0</td>\n      <td>Pass</td>\n    </tr>\n    <tr>\n      <th>4</th>\n      <td>32885</td>\n      <td>F</td>\n      <td>Lower Than A Level</td>\n      <td>0-35</td>\n      <td>0</td>\n      <td>N</td>\n      <td>69.0</td>\n      <td>-176.0</td>\n      <td>295.0</td>\n      <td>Pass</td>\n    </tr>\n  </tbody>\n</table>\n</div>"
     },
     "execution_count": 4,
     "metadata": {},
     "output_type": "execute_result"
    }
   ],
   "source": [
    "clicks_before_start = student_vle[student_vle['date'] < 0]\n",
    "\n",
    "# Merge student_info and student_registration tables to get registration_date\n",
    "df1 = pd.merge(student_info, student_registration, how='left', on=['id_student', 'code_module', 'code_presentation'])\n",
    "\n",
    "# Merge previous table with basic_info that was created earlier to get first assessment days and ids\n",
    "df2 = pd.merge(df1, basic_info, on=['code_module', 'code_presentation'], how='left')\n",
    "\n",
    "# Merge previous table with student assessment to find student's scores on their first assessments\n",
    "df3 = pd.merge(df2, student_assessment, on=['id_assessment', 'id_student'], how='left')\n",
    "\n",
    "# Merge previous table with clicks_before_start table that was created earlier\n",
    "data = pd.merge(df3, clicks_before_start, on=['id_student', 'code_module', 'code_presentation'], how='left')\n",
    "\n",
    "# Keep only columns that are needed later\n",
    "data = data.filter(['code_module', 'code_presentation', 'id_student', 'score', 'highest_education', 'sum_click',\n",
    "                    'date_registration', 'age_band',\n",
    "                    'disability', 'gender', 'num_of_prev_attempts', 'final_result'])\n",
    "data.fillna(value=0, inplace=True)\n",
    "\n",
    "# Get number of clicks before course start\n",
    "data = data.groupby(\n",
    "    ['code_module', 'code_presentation', 'id_student', 'score', 'highest_education', 'date_registration',\n",
    "     'age_band', 'disability', 'gender', 'num_of_prev_attempts', 'final_result']).sum().reset_index()\n",
    "\n",
    "# Get the final dataframe that will be used\n",
    "data = data[['id_student', 'gender', 'highest_education', 'age_band', 'num_of_prev_attempts', 'disability', 'score',\n",
    "             'date_registration', 'sum_click', 'final_result']]\n",
    "data.rename(columns={'score': 'first_assignment', 'sum_click': 'clicks_before_start',\n",
    "                     'num_of_prev_attempts': 'previous_attempts', 'age_band': 'age'}, inplace=True)\n",
    "data.head()"
   ],
   "metadata": {
    "collapsed": false,
    "pycharm": {
     "name": "#%%\n"
    }
   }
  },
  {
   "cell_type": "markdown",
   "source": [
    "Converting all categorical variables into dichotomous variables."
   ],
   "metadata": {
    "collapsed": false
   }
  },
  {
   "cell_type": "code",
   "execution_count": 5,
   "outputs": [
    {
     "data": {
      "text/plain": "   id_student  gender  highest_education  age  previous_attempts  disability  \\\n0       11391       0                  1    1                  0           0   \n1       28400       1                  1    1                  0           0   \n2       30268       1                  0    1                  0           1   \n3       31604       1                  0    1                  0           0   \n4       32885       1                  0    0                  0           0   \n\n   first_assignment  date_registration  clicks_before_start  final_result  \n0              78.0             -159.0                 98.0             1  \n1              70.0              -53.0                215.0             1  \n2               0.0              -92.0                102.0            -1  \n3              72.0              -52.0                169.0             1  \n4              69.0             -176.0                295.0             1  ",
      "text/html": "<div>\n<style scoped>\n    .dataframe tbody tr th:only-of-type {\n        vertical-align: middle;\n    }\n\n    .dataframe tbody tr th {\n        vertical-align: top;\n    }\n\n    .dataframe thead th {\n        text-align: right;\n    }\n</style>\n<table border=\"1\" class=\"dataframe\">\n  <thead>\n    <tr style=\"text-align: right;\">\n      <th></th>\n      <th>id_student</th>\n      <th>gender</th>\n      <th>highest_education</th>\n      <th>age</th>\n      <th>previous_attempts</th>\n      <th>disability</th>\n      <th>first_assignment</th>\n      <th>date_registration</th>\n      <th>clicks_before_start</th>\n      <th>final_result</th>\n    </tr>\n  </thead>\n  <tbody>\n    <tr>\n      <th>0</th>\n      <td>11391</td>\n      <td>0</td>\n      <td>1</td>\n      <td>1</td>\n      <td>0</td>\n      <td>0</td>\n      <td>78.0</td>\n      <td>-159.0</td>\n      <td>98.0</td>\n      <td>1</td>\n    </tr>\n    <tr>\n      <th>1</th>\n      <td>28400</td>\n      <td>1</td>\n      <td>1</td>\n      <td>1</td>\n      <td>0</td>\n      <td>0</td>\n      <td>70.0</td>\n      <td>-53.0</td>\n      <td>215.0</td>\n      <td>1</td>\n    </tr>\n    <tr>\n      <th>2</th>\n      <td>30268</td>\n      <td>1</td>\n      <td>0</td>\n      <td>1</td>\n      <td>0</td>\n      <td>1</td>\n      <td>0.0</td>\n      <td>-92.0</td>\n      <td>102.0</td>\n      <td>-1</td>\n    </tr>\n    <tr>\n      <th>3</th>\n      <td>31604</td>\n      <td>1</td>\n      <td>0</td>\n      <td>1</td>\n      <td>0</td>\n      <td>0</td>\n      <td>72.0</td>\n      <td>-52.0</td>\n      <td>169.0</td>\n      <td>1</td>\n    </tr>\n    <tr>\n      <th>4</th>\n      <td>32885</td>\n      <td>1</td>\n      <td>0</td>\n      <td>0</td>\n      <td>0</td>\n      <td>0</td>\n      <td>69.0</td>\n      <td>-176.0</td>\n      <td>295.0</td>\n      <td>1</td>\n    </tr>\n  </tbody>\n</table>\n</div>"
     },
     "execution_count": 5,
     "metadata": {},
     "output_type": "execute_result"
    }
   ],
   "source": [
    "education_mapping = {\n",
    "    'No Formal quals': 0,\n",
    "    'Lower Than A Level': 0,\n",
    "    'A Level or Equivalent': 0,\n",
    "    'HE Qualification': 1,\n",
    "    'Post Graduate Qualification': 1\n",
    "}\n",
    "\n",
    "age_mapping = {\n",
    "    '0-35': 0,\n",
    "    '35-55': 1,\n",
    "    '55<=': 1\n",
    "}\n",
    "\n",
    "grade_mapping = {\n",
    "    'Withdrawn': -1,\n",
    "    'Fail': -1,\n",
    "    'Pass': 1,\n",
    "    'Distinction': 1\n",
    "}\n",
    "\n",
    "gender_mapping = {\n",
    "    'F': 1,\n",
    "    'M': 0\n",
    "}\n",
    "\n",
    "disability_mapping = {\n",
    "    'N': 0,\n",
    "    'Y': 1\n",
    "}\n",
    "\n",
    "data['highest_education'] = data['highest_education'].map(education_mapping)\n",
    "data['age'] = data['age'].map(age_mapping)\n",
    "data['final_result'] = data['final_result'].map(grade_mapping)\n",
    "data['gender'] = data['gender'].map(gender_mapping)\n",
    "data['disability'] = data['disability'].map(disability_mapping)\n",
    "\n",
    "data.head()"
   ],
   "metadata": {
    "collapsed": false,
    "pycharm": {
     "name": "#%%\n"
    }
   }
  },
  {
   "cell_type": "code",
   "execution_count": 6,
   "outputs": [],
   "source": [
    "from sklearn.model_selection import train_test_split\n",
    "\n",
    "X_train, X_test, y_train, y_test = train_test_split(data[['first_assignment', 'highest_education', 'age', 'gender', 'previous_attempts', 'disability', 'clicks_before_start', 'date_registration']],\n",
    "                                                    data['final_result'], test_size=0.3, random_state=2)"
   ],
   "metadata": {
    "collapsed": false,
    "pycharm": {
     "name": "#%%\n"
    }
   }
  },
  {
   "cell_type": "markdown",
   "source": [
    "### Decision Tree"
   ],
   "metadata": {
    "collapsed": false
   }
  },
  {
   "cell_type": "code",
   "execution_count": 7,
   "outputs": [
    {
     "data": {
      "text/plain": "DecisionTreeClassifier(class_weight='balanced', min_samples_split=10)"
     },
     "execution_count": 7,
     "metadata": {},
     "output_type": "execute_result"
    }
   ],
   "source": [
    "from sklearn.tree import DecisionTreeClassifier\n",
    "\n",
    "decision_tree = DecisionTreeClassifier(class_weight='balanced', min_samples_split=10)\n",
    "decision_tree.fit(X_train, y_train)"
   ],
   "metadata": {
    "collapsed": false,
    "pycharm": {
     "name": "#%%\n"
    }
   }
  },
  {
   "cell_type": "markdown",
   "source": [
    "### Random Forest"
   ],
   "metadata": {
    "collapsed": false
   }
  },
  {
   "cell_type": "code",
   "execution_count": 8,
   "outputs": [
    {
     "data": {
      "text/plain": "RandomForestClassifier(class_weight='balanced', min_samples_split=10, n_jobs=-1)"
     },
     "execution_count": 8,
     "metadata": {},
     "output_type": "execute_result"
    }
   ],
   "source": [
    "from sklearn.ensemble import RandomForestClassifier\n",
    "\n",
    "random_forest = RandomForestClassifier(n_jobs=-1, class_weight='balanced', min_samples_split=10)\n",
    "random_forest.fit(X_train, y_train)\n"
   ],
   "metadata": {
    "collapsed": false,
    "pycharm": {
     "name": "#%%\n"
    }
   }
  },
  {
   "cell_type": "markdown",
   "source": [
    "### BART"
   ],
   "metadata": {
    "collapsed": false,
    "pycharm": {
     "name": "#%% md\n"
    }
   }
  },
  {
   "cell_type": "code",
   "execution_count": 10,
   "outputs": [
    {
     "data": {
      "text/plain": "SklearnModel(alpha=0.9, beta=1.5, n_chains=2, n_trees=50)"
     },
     "execution_count": 10,
     "metadata": {},
     "output_type": "execute_result"
    }
   ],
   "source": [
    "from bartpy.sklearnmodel import SklearnModel as BART\n",
    "\n",
    "bart = BART(n_burn=200, n_chains=2, n_samples=200, n_trees=50, alpha=0.9, beta=1.5)\n",
    "bart.fit(X_train, y_train)"
   ],
   "metadata": {
    "collapsed": false,
    "pycharm": {
     "name": "#%%\n"
    }
   }
  },
  {
   "cell_type": "markdown",
   "source": [
    "### KNN Classifier"
   ],
   "metadata": {
    "collapsed": false
   }
  },
  {
   "cell_type": "code",
   "execution_count": 20,
   "outputs": [
    {
     "data": {
      "text/plain": "KNeighborsClassifier(n_jobs=-1, n_neighbors=100)"
     },
     "execution_count": 20,
     "metadata": {},
     "output_type": "execute_result"
    }
   ],
   "source": [
    "from sklearn.neighbors import KNeighborsClassifier\n",
    "\n",
    "knn = KNeighborsClassifier(n_neighbors=100, n_jobs=-1)\n",
    "knn.fit(X_train, y_train)"
   ],
   "metadata": {
    "collapsed": false,
    "pycharm": {
     "name": "#%%\n"
    }
   }
  },
  {
   "cell_type": "markdown",
   "source": [
    "### SVC\n",
    "#### Grid search for optimal parameters, do not run the grid search again (it lasts for hours, literally)"
   ],
   "metadata": {
    "collapsed": false
   }
  },
  {
   "cell_type": "code",
   "execution_count": 12,
   "outputs": [
    {
     "name": "stdout",
     "output_type": "stream",
     "text": [
      "Result of grid search: {'C': 1000, 'gamma': 0.0001, 'kernel': 'rbf'}\n"
     ]
    },
    {
     "data": {
      "text/plain": "SVC(C=1000, gamma=0.001)"
     },
     "execution_count": 12,
     "metadata": {},
     "output_type": "execute_result"
    }
   ],
   "source": [
    "from sklearn.svm import SVC\n",
    "# from sklearn.model_selection import GridSearchCV\n",
    "#\n",
    "# defining parameter range\n",
    "# param_grid = {'C': [0.1, 1, 10, 100, 1000],\n",
    "#               'gamma': [1, 0.1, 0.01, 0.001, 0.0001],\n",
    "#               'kernel': ['rbf']}\n",
    "#\n",
    "# grid = GridSearchCV(SVC(), param_grid, refit = True, verbose = 3)\n",
    "#\n",
    "# # fitting the model for grid search\n",
    "# grid.fit(X_train, y_train)\n",
    "# print(grid.best_params_)\n",
    "\n",
    "print(\"Result of grid search: {'C': 1000, 'gamma': 0.0001, 'kernel': 'rbf'}\")\n",
    "\n",
    "svc = SVC(C=1000, gamma=0.001)\n",
    "svc.fit(X_train, y_train)"
   ],
   "metadata": {
    "collapsed": false,
    "pycharm": {
     "name": "#%%\n"
    }
   }
  },
  {
   "cell_type": "code",
   "execution_count": 22,
   "outputs": [
    {
     "data": {
      "text/plain": "                        Decision tree  Random forest      BART       KNN  \\\nFinal result Metric                                                        \nPass vs Fail Precision       0.663998       0.688615  0.699431  0.680700   \n             Recall          0.690944       0.799658  0.840453  0.839171   \n             F1              0.677203       0.739994  0.763485  0.751674   \n             Accuracy        0.684598       0.730927  0.750665  0.734506   \n\n                             SVC  \nFinal result Metric               \nPass vs Fail Precision  0.673528  \n             Recall     0.796668  \n             F1         0.729941  \n             Accuracy   0.717734  ",
      "text/html": "<div>\n<style scoped>\n    .dataframe tbody tr th:only-of-type {\n        vertical-align: middle;\n    }\n\n    .dataframe tbody tr th {\n        vertical-align: top;\n    }\n\n    .dataframe thead th {\n        text-align: right;\n    }\n</style>\n<table border=\"1\" class=\"dataframe\">\n  <thead>\n    <tr style=\"text-align: right;\">\n      <th></th>\n      <th></th>\n      <th>Decision tree</th>\n      <th>Random forest</th>\n      <th>BART</th>\n      <th>KNN</th>\n      <th>SVC</th>\n    </tr>\n    <tr>\n      <th>Final result</th>\n      <th>Metric</th>\n      <th></th>\n      <th></th>\n      <th></th>\n      <th></th>\n      <th></th>\n    </tr>\n  </thead>\n  <tbody>\n    <tr>\n      <th rowspan=\"4\" valign=\"top\">Pass vs Fail</th>\n      <th>Precision</th>\n      <td>0.663998</td>\n      <td>0.688615</td>\n      <td>0.699431</td>\n      <td>0.680700</td>\n      <td>0.673528</td>\n    </tr>\n    <tr>\n      <th>Recall</th>\n      <td>0.690944</td>\n      <td>0.799658</td>\n      <td>0.840453</td>\n      <td>0.839171</td>\n      <td>0.796668</td>\n    </tr>\n    <tr>\n      <th>F1</th>\n      <td>0.677203</td>\n      <td>0.739994</td>\n      <td>0.763485</td>\n      <td>0.751674</td>\n      <td>0.729941</td>\n    </tr>\n    <tr>\n      <th>Accuracy</th>\n      <td>0.684598</td>\n      <td>0.730927</td>\n      <td>0.750665</td>\n      <td>0.734506</td>\n      <td>0.717734</td>\n    </tr>\n  </tbody>\n</table>\n</div>"
     },
     "execution_count": 22,
     "metadata": {},
     "output_type": "execute_result"
    }
   ],
   "source": [
    "from sklearn.metrics import accuracy_score, precision_score, f1_score, recall_score\n",
    "\n",
    "results = []\n",
    "\n",
    "for model in [decision_tree, random_forest, bart, knn, svc]:\n",
    "    for score in [precision_score, recall_score, f1_score, accuracy_score]:\n",
    "        if model == bart:\n",
    "            results.append(score(y_pred=[1 if res >= 0 else -1 for res in model.predict(X_test)], y_true=y_test))\n",
    "        else:\n",
    "            results.append(score(y_pred=model.predict(X_test), y_true=y_test))\n",
    "split = np.array_split(results, 5)\n",
    "\n",
    "\n",
    "multi = pd.MultiIndex.from_product(\n",
    "    [['Pass vs Fail'], ['Precision', 'Recall', 'F1', 'Accuracy']],\n",
    "    names=['Final result', 'Metric'])\n",
    "\n",
    "results = pd.DataFrame(index=multi, columns=['Decision tree', 'Random forest', 'BART', 'KNN', 'SVC'],\n",
    "                       data={'Decision tree': split[0], 'Random forest': split[1], 'BART': split[2], 'KNN': split[3], 'SVC': split[4]})\n",
    "results\n"
   ],
   "metadata": {
    "collapsed": false,
    "pycharm": {
     "name": "#%%\n"
    }
   }
  }
 ],
 "metadata": {
  "kernelspec": {
   "display_name": "Python 3",
   "language": "python",
   "name": "python3"
  },
  "language_info": {
   "codemirror_mode": {
    "name": "ipython",
    "version": 2
   },
   "file_extension": ".py",
   "mimetype": "text/x-python",
   "name": "python",
   "nbconvert_exporter": "python",
   "pygments_lexer": "ipython2",
   "version": "2.7.6"
  }
 },
 "nbformat": 4,
 "nbformat_minor": 0
}