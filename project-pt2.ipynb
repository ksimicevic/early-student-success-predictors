{
 "cells": [
  {
   "cell_type": "markdown",
   "source": [
    "## Early Predictor for Student Success Based on Behavioural and Demographical Indicators"
   ],
   "metadata": {
    "collapsed": false
   }
  },
  {
   "cell_type": "markdown",
   "source": [
    "Import libraries"
   ],
   "metadata": {
    "collapsed": false
   }
  },
  {
   "cell_type": "code",
   "execution_count": null,
   "outputs": [],
   "source": [
    "import zipfile\n",
    "import numpy as np\n",
    "import matplotlib.pyplot as plt\n",
    "import pandas as pd\n",
    "import seaborn as sns"
   ],
   "metadata": {
    "collapsed": false,
    "pycharm": {
     "name": "#%%\n"
    }
   }
  },
  {
   "cell_type": "markdown",
   "source": [
    "Load data"
   ],
   "metadata": {
    "collapsed": false
   }
  },
  {
   "cell_type": "code",
   "execution_count": null,
   "outputs": [],
   "source": [
    "zf = zipfile.ZipFile('./data.zip')\n",
    "student_info = pd.read_csv(zf.open('studentInfo.csv'))\n",
    "student_vle = pd.read_csv(zf.open('studentVle.csv'))\n",
    "student_assessment = pd.read_csv(zf.open('studentAssessment.csv'))\n",
    "student_registration = pd.read_csv(zf.open('studentRegistration.csv'))\n",
    "assessments = pd.read_csv(zf.open('assessments.csv'))"
   ],
   "metadata": {
    "collapsed": false,
    "pycharm": {
     "name": "#%%\n"
    }
   }
  },
  {
   "cell_type": "markdown",
   "source": [
    "Basic information about modules, first assessments and number of registered students"
   ],
   "metadata": {
    "collapsed": false
   }
  },
  {
   "cell_type": "code",
   "execution_count": null,
   "outputs": [],
   "source": [
    "# Get information about first day assessments\n",
    "basic_info = assessments.filter(items=['code_module', 'code_presentation', 'date'])\n",
    "basic_info = basic_info.groupby(['code_module', 'code_presentation']).min()\n",
    "basic_info = pd.merge(basic_info, assessments, on=['code_module', 'code_presentation', 'date'],\n",
    "                             how='inner').filter(items=['code_module', 'code_presentation', 'id_assessment', 'date'])\n",
    "\n",
    "# Get total number of registered students for each module\n",
    "registrations = student_registration.filter(items=['code_module', 'code_presentation', 'id_student']).groupby(\n",
    "    ['code_module', 'code_presentation']).count().reset_index()\n",
    "basic_info.insert(4, \"number of registered students\", registrations['id_student'])\n",
    "basic_info"
   ],
   "metadata": {
    "collapsed": false,
    "pycharm": {
     "name": "#%%\n"
    }
   }
  },
  {
   "cell_type": "markdown",
   "source": [
    "### Data preparation"
   ],
   "metadata": {
    "collapsed": false
   }
  },
  {
   "cell_type": "code",
   "execution_count": null,
   "outputs": [],
   "source": [
    "clicks_before_start = student_vle[student_vle['date'] < 0]\n",
    "\n",
    "# Merge student_info and student_registration tables to get registration_date\n",
    "df1 = pd.merge(student_info, student_registration, how='left', on=['id_student', 'code_module', 'code_presentation'])\n",
    "\n",
    "# Merge previous table with basic_info that was created earlier to get first assessment days and ids\n",
    "df2 = pd.merge(df1, basic_info, on=['code_module', 'code_presentation'], how='left')\n",
    "\n",
    "# Merge previous table with student assessment to find student's scores on their first assessments\n",
    "df3 = pd.merge(df2, student_assessment, on=['id_assessment', 'id_student'], how='left')\n",
    "\n",
    "# Merge previous table with clicks_before_start table that was created earlier\n",
    "data = pd.merge(df3, clicks_before_start, on=['id_student', 'code_module', 'code_presentation'], how='left')\n",
    "\n",
    "# Keep only columns that are needed later\n",
    "data = data.filter(['code_module', 'code_presentation', 'id_student', 'score', 'highest_education', 'sum_click',\n",
    "                    'date_registration', 'age_band',\n",
    "                    'disability', 'gender', 'num_of_prev_attempts', 'final_result'])\n",
    "data.fillna(value=0, inplace=True)\n",
    "\n",
    "# Get number of clicks before course start\n",
    "data = data.groupby(\n",
    "    ['code_module', 'code_presentation', 'id_student', 'score', 'highest_education', 'date_registration',\n",
    "     'age_band', 'disability', 'gender', 'num_of_prev_attempts', 'final_result']).sum().reset_index()\n",
    "\n",
    "# Get the final dataframe that will be used\n",
    "data = data[['id_student', 'gender', 'highest_education', 'age_band', 'num_of_prev_attempts', 'disability', 'score',\n",
    "             'date_registration', 'sum_click', 'final_result']]\n",
    "data.rename(columns={'score': 'first_assignment', 'sum_click': 'clicks_before_start',\n",
    "                     'num_of_prev_attempts': 'previous_attempts', 'age_band': 'age'}, inplace=True)\n",
    "data.head()"
   ],
   "metadata": {
    "collapsed": false,
    "pycharm": {
     "name": "#%%\n"
    }
   }
  },
  {
   "cell_type": "markdown",
   "source": [
    "Converting all categorical variables into dichotomous variables."
   ],
   "metadata": {
    "collapsed": false
   }
  },
  {
   "cell_type": "code",
   "execution_count": null,
   "outputs": [],
   "source": [
    "education_mapping = {\n",
    "    'No Formal quals': 0,\n",
    "    'Lower Than A Level': 0,\n",
    "    'A Level or Equivalent': 0,\n",
    "    'HE Qualification': 1,\n",
    "    'Post Graduate Qualification': 1\n",
    "}\n",
    "\n",
    "age_mapping = {\n",
    "    '0-35': 0,\n",
    "    '35-55': 1,\n",
    "    '55<=': 1\n",
    "}\n",
    "\n",
    "grade_mapping = {\n",
    "    'Withdrawn': -1,\n",
    "    'Fail': -1,\n",
    "    'Pass': 1,\n",
    "    'Distinction': 1\n",
    "}\n",
    "\n",
    "gender_mapping = {\n",
    "    'F': 1,\n",
    "    'M': 0\n",
    "}\n",
    "\n",
    "disability_mapping = {\n",
    "    'N': 0,\n",
    "    'Y': 1\n",
    "}\n",
    "\n",
    "data['highest_education'] = data['highest_education'].map(education_mapping)\n",
    "data['age'] = data['age'].map(age_mapping)\n",
    "data['final_result'] = data['final_result'].map(grade_mapping)\n",
    "data['gender'] = data['gender'].map(gender_mapping)\n",
    "data['disability'] = data['disability'].map(disability_mapping)\n",
    "\n",
    "data.head()"
   ],
   "metadata": {
    "collapsed": false,
    "pycharm": {
     "name": "#%%\n"
    }
   }
  },
  {
   "cell_type": "code",
   "execution_count": null,
   "outputs": [],
   "source": [
    "from sklearn.model_selection import train_test_split\n",
    "\n",
    "X_train, X_test, y_train, y_test = train_test_split(data[['first_assignment', 'highest_education', 'age', 'gender', 'previous_attempts', 'disability', 'clicks_before_start', 'date_registration']],\n",
    "                                                    data['final_result'], test_size=0.3, random_state=2)"
   ],
   "metadata": {
    "collapsed": false,
    "pycharm": {
     "name": "#%%\n"
    }
   }
  }
 ],
 "metadata": {
  "kernelspec": {
   "display_name": "Python 3",
   "language": "python",
   "name": "python3"
  },
  "language_info": {
   "codemirror_mode": {
    "name": "ipython",
    "version": 2
   },
   "file_extension": ".py",
   "mimetype": "text/x-python",
   "name": "python",
   "nbconvert_exporter": "python",
   "pygments_lexer": "ipython2",
   "version": "2.7.6"
  }
 },
 "nbformat": 4,
 "nbformat_minor": 0
}