{
 "cells": [
  {
   "cell_type": "markdown",
   "metadata": {},
   "source": [
    "## Early Predictor for Student Success Based on Behavioural and Demographical Indicators"
   ]
  },
  {
   "cell_type": "markdown",
   "metadata": {},
   "source": [
    "Import libraries"
   ]
  },
  {
   "cell_type": "code",
   "execution_count": 2,
   "metadata": {
    "pycharm": {
     "name": "#%%\n"
    }
   },
   "outputs": [],
   "source": [
    "import zipfile\n",
    "import numpy as np\n",
    "import matplotlib.pyplot as plt\n",
    "import pandas as pd\n",
    "import seaborn as sns"
   ]
  },
  {
   "cell_type": "markdown",
   "metadata": {},
   "source": [
    "Load data"
   ]
  },
  {
   "cell_type": "code",
   "execution_count": 3,
   "metadata": {
    "pycharm": {
     "name": "#%%\n"
    }
   },
   "outputs": [],
   "source": [
    "zf = zipfile.ZipFile('./data.zip')\n",
    "student_info = pd.read_csv(zf.open('studentInfo.csv'))\n",
    "student_vle = pd.read_csv(zf.open('studentVle.csv'))\n",
    "student_assessment = pd.read_csv(zf.open('studentAssessment.csv'))\n",
    "student_registration = pd.read_csv(zf.open('studentRegistration.csv'))\n",
    "assessments = pd.read_csv(zf.open('assessments.csv'))"
   ]
  },
  {
   "cell_type": "markdown",
   "metadata": {},
   "source": [
    "Basic information about modules, first assessments and number of registered students"
   ]
  },
  {
   "cell_type": "code",
   "execution_count": 4,
   "metadata": {
    "pycharm": {
     "name": "#%%\n"
    }
   },
   "outputs": [
    {
     "data": {
      "text/html": [
       "<div>\n",
       "<style scoped>\n",
       "    .dataframe tbody tr th:only-of-type {\n",
       "        vertical-align: middle;\n",
       "    }\n",
       "\n",
       "    .dataframe tbody tr th {\n",
       "        vertical-align: top;\n",
       "    }\n",
       "\n",
       "    .dataframe thead th {\n",
       "        text-align: right;\n",
       "    }\n",
       "</style>\n",
       "<table border=\"1\" class=\"dataframe\">\n",
       "  <thead>\n",
       "    <tr style=\"text-align: right;\">\n",
       "      <th></th>\n",
       "      <th>code_module</th>\n",
       "      <th>code_presentation</th>\n",
       "      <th>id_assessment</th>\n",
       "      <th>date</th>\n",
       "      <th>number of registered students</th>\n",
       "    </tr>\n",
       "  </thead>\n",
       "  <tbody>\n",
       "    <tr>\n",
       "      <th>0</th>\n",
       "      <td>AAA</td>\n",
       "      <td>2013J</td>\n",
       "      <td>1752</td>\n",
       "      <td>19.0</td>\n",
       "      <td>383</td>\n",
       "    </tr>\n",
       "    <tr>\n",
       "      <th>1</th>\n",
       "      <td>AAA</td>\n",
       "      <td>2014J</td>\n",
       "      <td>1758</td>\n",
       "      <td>19.0</td>\n",
       "      <td>365</td>\n",
       "    </tr>\n",
       "    <tr>\n",
       "      <th>2</th>\n",
       "      <td>BBB</td>\n",
       "      <td>2013B</td>\n",
       "      <td>14984</td>\n",
       "      <td>19.0</td>\n",
       "      <td>1767</td>\n",
       "    </tr>\n",
       "    <tr>\n",
       "      <th>3</th>\n",
       "      <td>BBB</td>\n",
       "      <td>2013J</td>\n",
       "      <td>14996</td>\n",
       "      <td>19.0</td>\n",
       "      <td>2237</td>\n",
       "    </tr>\n",
       "    <tr>\n",
       "      <th>4</th>\n",
       "      <td>BBB</td>\n",
       "      <td>2014B</td>\n",
       "      <td>15008</td>\n",
       "      <td>12.0</td>\n",
       "      <td>1613</td>\n",
       "    </tr>\n",
       "    <tr>\n",
       "      <th>5</th>\n",
       "      <td>BBB</td>\n",
       "      <td>2014J</td>\n",
       "      <td>15020</td>\n",
       "      <td>19.0</td>\n",
       "      <td>2292</td>\n",
       "    </tr>\n",
       "    <tr>\n",
       "      <th>6</th>\n",
       "      <td>CCC</td>\n",
       "      <td>2014B</td>\n",
       "      <td>24286</td>\n",
       "      <td>18.0</td>\n",
       "      <td>1936</td>\n",
       "    </tr>\n",
       "    <tr>\n",
       "      <th>7</th>\n",
       "      <td>CCC</td>\n",
       "      <td>2014J</td>\n",
       "      <td>24295</td>\n",
       "      <td>18.0</td>\n",
       "      <td>2498</td>\n",
       "    </tr>\n",
       "    <tr>\n",
       "      <th>8</th>\n",
       "      <td>DDD</td>\n",
       "      <td>2013B</td>\n",
       "      <td>25341</td>\n",
       "      <td>23.0</td>\n",
       "      <td>1303</td>\n",
       "    </tr>\n",
       "    <tr>\n",
       "      <th>9</th>\n",
       "      <td>DDD</td>\n",
       "      <td>2013J</td>\n",
       "      <td>25348</td>\n",
       "      <td>25.0</td>\n",
       "      <td>1938</td>\n",
       "    </tr>\n",
       "    <tr>\n",
       "      <th>10</th>\n",
       "      <td>DDD</td>\n",
       "      <td>2014B</td>\n",
       "      <td>25355</td>\n",
       "      <td>25.0</td>\n",
       "      <td>1228</td>\n",
       "    </tr>\n",
       "    <tr>\n",
       "      <th>11</th>\n",
       "      <td>DDD</td>\n",
       "      <td>2014J</td>\n",
       "      <td>25362</td>\n",
       "      <td>20.0</td>\n",
       "      <td>1803</td>\n",
       "    </tr>\n",
       "    <tr>\n",
       "      <th>12</th>\n",
       "      <td>EEE</td>\n",
       "      <td>2013J</td>\n",
       "      <td>30709</td>\n",
       "      <td>33.0</td>\n",
       "      <td>1052</td>\n",
       "    </tr>\n",
       "    <tr>\n",
       "      <th>13</th>\n",
       "      <td>EEE</td>\n",
       "      <td>2014B</td>\n",
       "      <td>30714</td>\n",
       "      <td>33.0</td>\n",
       "      <td>694</td>\n",
       "    </tr>\n",
       "    <tr>\n",
       "      <th>14</th>\n",
       "      <td>EEE</td>\n",
       "      <td>2014J</td>\n",
       "      <td>30719</td>\n",
       "      <td>33.0</td>\n",
       "      <td>1188</td>\n",
       "    </tr>\n",
       "    <tr>\n",
       "      <th>15</th>\n",
       "      <td>FFF</td>\n",
       "      <td>2013B</td>\n",
       "      <td>34860</td>\n",
       "      <td>19.0</td>\n",
       "      <td>1614</td>\n",
       "    </tr>\n",
       "    <tr>\n",
       "      <th>16</th>\n",
       "      <td>FFF</td>\n",
       "      <td>2013J</td>\n",
       "      <td>34873</td>\n",
       "      <td>19.0</td>\n",
       "      <td>2283</td>\n",
       "    </tr>\n",
       "    <tr>\n",
       "      <th>17</th>\n",
       "      <td>FFF</td>\n",
       "      <td>2014B</td>\n",
       "      <td>34886</td>\n",
       "      <td>24.0</td>\n",
       "      <td>1500</td>\n",
       "    </tr>\n",
       "    <tr>\n",
       "      <th>18</th>\n",
       "      <td>FFF</td>\n",
       "      <td>2014J</td>\n",
       "      <td>34899</td>\n",
       "      <td>24.0</td>\n",
       "      <td>2365</td>\n",
       "    </tr>\n",
       "    <tr>\n",
       "      <th>19</th>\n",
       "      <td>GGG</td>\n",
       "      <td>2013J</td>\n",
       "      <td>37415</td>\n",
       "      <td>61.0</td>\n",
       "      <td>952</td>\n",
       "    </tr>\n",
       "    <tr>\n",
       "      <th>20</th>\n",
       "      <td>GGG</td>\n",
       "      <td>2014B</td>\n",
       "      <td>37425</td>\n",
       "      <td>61.0</td>\n",
       "      <td>833</td>\n",
       "    </tr>\n",
       "    <tr>\n",
       "      <th>21</th>\n",
       "      <td>GGG</td>\n",
       "      <td>2014J</td>\n",
       "      <td>37435</td>\n",
       "      <td>61.0</td>\n",
       "      <td>749</td>\n",
       "    </tr>\n",
       "  </tbody>\n",
       "</table>\n",
       "</div>"
      ],
      "text/plain": [
       "   code_module code_presentation  id_assessment  date  \\\n",
       "0          AAA             2013J           1752  19.0   \n",
       "1          AAA             2014J           1758  19.0   \n",
       "2          BBB             2013B          14984  19.0   \n",
       "3          BBB             2013J          14996  19.0   \n",
       "4          BBB             2014B          15008  12.0   \n",
       "5          BBB             2014J          15020  19.0   \n",
       "6          CCC             2014B          24286  18.0   \n",
       "7          CCC             2014J          24295  18.0   \n",
       "8          DDD             2013B          25341  23.0   \n",
       "9          DDD             2013J          25348  25.0   \n",
       "10         DDD             2014B          25355  25.0   \n",
       "11         DDD             2014J          25362  20.0   \n",
       "12         EEE             2013J          30709  33.0   \n",
       "13         EEE             2014B          30714  33.0   \n",
       "14         EEE             2014J          30719  33.0   \n",
       "15         FFF             2013B          34860  19.0   \n",
       "16         FFF             2013J          34873  19.0   \n",
       "17         FFF             2014B          34886  24.0   \n",
       "18         FFF             2014J          34899  24.0   \n",
       "19         GGG             2013J          37415  61.0   \n",
       "20         GGG             2014B          37425  61.0   \n",
       "21         GGG             2014J          37435  61.0   \n",
       "\n",
       "    number of registered students  \n",
       "0                             383  \n",
       "1                             365  \n",
       "2                            1767  \n",
       "3                            2237  \n",
       "4                            1613  \n",
       "5                            2292  \n",
       "6                            1936  \n",
       "7                            2498  \n",
       "8                            1303  \n",
       "9                            1938  \n",
       "10                           1228  \n",
       "11                           1803  \n",
       "12                           1052  \n",
       "13                            694  \n",
       "14                           1188  \n",
       "15                           1614  \n",
       "16                           2283  \n",
       "17                           1500  \n",
       "18                           2365  \n",
       "19                            952  \n",
       "20                            833  \n",
       "21                            749  "
      ]
     },
     "execution_count": 4,
     "metadata": {},
     "output_type": "execute_result"
    }
   ],
   "source": [
    "# Get information about first day assessments\n",
    "basic_info = assessments.filter(items=['code_module', 'code_presentation', 'date'])\n",
    "basic_info = basic_info.groupby(['code_module', 'code_presentation']).min()\n",
    "basic_info = pd.merge(basic_info, assessments, on=['code_module', 'code_presentation', 'date'],\n",
    "                             how='inner').filter(items=['code_module', 'code_presentation', 'id_assessment', 'date'])\n",
    "\n",
    "# Get total number of registered students for each module\n",
    "registrations = student_registration.filter(items=['code_module', 'code_presentation', 'id_student']).groupby(\n",
    "    ['code_module', 'code_presentation']).count().reset_index()\n",
    "basic_info.insert(4, \"number of registered students\", registrations['id_student'])\n",
    "basic_info"
   ]
  },
  {
   "cell_type": "markdown",
   "metadata": {},
   "source": [
    "### Data preparation"
   ]
  },
  {
   "cell_type": "code",
   "execution_count": 5,
   "metadata": {
    "pycharm": {
     "name": "#%%\n"
    }
   },
   "outputs": [
    {
     "data": {
      "text/html": [
       "<div>\n",
       "<style scoped>\n",
       "    .dataframe tbody tr th:only-of-type {\n",
       "        vertical-align: middle;\n",
       "    }\n",
       "\n",
       "    .dataframe tbody tr th {\n",
       "        vertical-align: top;\n",
       "    }\n",
       "\n",
       "    .dataframe thead th {\n",
       "        text-align: right;\n",
       "    }\n",
       "</style>\n",
       "<table border=\"1\" class=\"dataframe\">\n",
       "  <thead>\n",
       "    <tr style=\"text-align: right;\">\n",
       "      <th></th>\n",
       "      <th>id_student</th>\n",
       "      <th>gender</th>\n",
       "      <th>highest_education</th>\n",
       "      <th>age</th>\n",
       "      <th>previous_attempts</th>\n",
       "      <th>disability</th>\n",
       "      <th>first_assignment</th>\n",
       "      <th>date_registration</th>\n",
       "      <th>clicks_before_start</th>\n",
       "      <th>final_result</th>\n",
       "    </tr>\n",
       "  </thead>\n",
       "  <tbody>\n",
       "    <tr>\n",
       "      <th>0</th>\n",
       "      <td>11391</td>\n",
       "      <td>M</td>\n",
       "      <td>HE Qualification</td>\n",
       "      <td>55&lt;=</td>\n",
       "      <td>0</td>\n",
       "      <td>N</td>\n",
       "      <td>78.0</td>\n",
       "      <td>-159.0</td>\n",
       "      <td>98.0</td>\n",
       "      <td>Pass</td>\n",
       "    </tr>\n",
       "    <tr>\n",
       "      <th>1</th>\n",
       "      <td>28400</td>\n",
       "      <td>F</td>\n",
       "      <td>HE Qualification</td>\n",
       "      <td>35-55</td>\n",
       "      <td>0</td>\n",
       "      <td>N</td>\n",
       "      <td>70.0</td>\n",
       "      <td>-53.0</td>\n",
       "      <td>215.0</td>\n",
       "      <td>Pass</td>\n",
       "    </tr>\n",
       "    <tr>\n",
       "      <th>2</th>\n",
       "      <td>30268</td>\n",
       "      <td>F</td>\n",
       "      <td>A Level or Equivalent</td>\n",
       "      <td>35-55</td>\n",
       "      <td>0</td>\n",
       "      <td>Y</td>\n",
       "      <td>0.0</td>\n",
       "      <td>-92.0</td>\n",
       "      <td>102.0</td>\n",
       "      <td>Withdrawn</td>\n",
       "    </tr>\n",
       "    <tr>\n",
       "      <th>3</th>\n",
       "      <td>31604</td>\n",
       "      <td>F</td>\n",
       "      <td>A Level or Equivalent</td>\n",
       "      <td>35-55</td>\n",
       "      <td>0</td>\n",
       "      <td>N</td>\n",
       "      <td>72.0</td>\n",
       "      <td>-52.0</td>\n",
       "      <td>169.0</td>\n",
       "      <td>Pass</td>\n",
       "    </tr>\n",
       "    <tr>\n",
       "      <th>4</th>\n",
       "      <td>32885</td>\n",
       "      <td>F</td>\n",
       "      <td>Lower Than A Level</td>\n",
       "      <td>0-35</td>\n",
       "      <td>0</td>\n",
       "      <td>N</td>\n",
       "      <td>69.0</td>\n",
       "      <td>-176.0</td>\n",
       "      <td>295.0</td>\n",
       "      <td>Pass</td>\n",
       "    </tr>\n",
       "  </tbody>\n",
       "</table>\n",
       "</div>"
      ],
      "text/plain": [
       "   id_student gender      highest_education    age  previous_attempts  \\\n",
       "0       11391      M       HE Qualification   55<=                  0   \n",
       "1       28400      F       HE Qualification  35-55                  0   \n",
       "2       30268      F  A Level or Equivalent  35-55                  0   \n",
       "3       31604      F  A Level or Equivalent  35-55                  0   \n",
       "4       32885      F     Lower Than A Level   0-35                  0   \n",
       "\n",
       "  disability  first_assignment  date_registration  clicks_before_start  \\\n",
       "0          N              78.0             -159.0                 98.0   \n",
       "1          N              70.0              -53.0                215.0   \n",
       "2          Y               0.0              -92.0                102.0   \n",
       "3          N              72.0              -52.0                169.0   \n",
       "4          N              69.0             -176.0                295.0   \n",
       "\n",
       "  final_result  \n",
       "0         Pass  \n",
       "1         Pass  \n",
       "2    Withdrawn  \n",
       "3         Pass  \n",
       "4         Pass  "
      ]
     },
     "execution_count": 5,
     "metadata": {},
     "output_type": "execute_result"
    }
   ],
   "source": [
    "clicks_before_start = student_vle[student_vle['date'] < 0]\n",
    "\n",
    "# Merge student_info and student_registration tables to get registration_date\n",
    "df1 = pd.merge(student_info, student_registration, how='left', on=['id_student', 'code_module', 'code_presentation'])\n",
    "\n",
    "# Merge previous table with basic_info that was created earlier to get first assessment days and ids\n",
    "df2 = pd.merge(df1, basic_info, on=['code_module', 'code_presentation'], how='left')\n",
    "\n",
    "# Merge previous table with student assessment to find student's scores on their first assessments\n",
    "df3 = pd.merge(df2, student_assessment, on=['id_assessment', 'id_student'], how='left')\n",
    "\n",
    "# Merge previous table with clicks_before_start table that was created earlier\n",
    "data = pd.merge(df3, clicks_before_start, on=['id_student', 'code_module', 'code_presentation'], how='left')\n",
    "\n",
    "# Keep only columns that are needed later\n",
    "data = data.filter(['code_module', 'code_presentation', 'id_student', 'score', 'highest_education', 'sum_click',\n",
    "                    'date_registration', 'age_band',\n",
    "                    'disability', 'gender', 'num_of_prev_attempts', 'final_result'])\n",
    "data.fillna(value=0, inplace=True)\n",
    "\n",
    "# Get number of clicks before course start\n",
    "data = data.groupby(\n",
    "    ['code_module', 'code_presentation', 'id_student', 'score', 'highest_education', 'date_registration',\n",
    "     'age_band', 'disability', 'gender', 'num_of_prev_attempts', 'final_result']).sum().reset_index()\n",
    "\n",
    "# Get the final dataframe that will be used\n",
    "data = data[['id_student', 'gender', 'highest_education', 'age_band', 'num_of_prev_attempts', 'disability', 'score',\n",
    "             'date_registration', 'sum_click', 'final_result']]\n",
    "data.rename(columns={'score': 'first_assignment', 'sum_click': 'clicks_before_start',\n",
    "                     'num_of_prev_attempts': 'previous_attempts', 'age_band': 'age'}, inplace=True)\n",
    "data.head()"
   ]
  },
  {
   "cell_type": "markdown",
   "metadata": {},
   "source": [
    "Converting all categorical variables into dichotomous variables."
   ]
  },
  {
   "cell_type": "code",
   "execution_count": 6,
   "metadata": {
    "pycharm": {
     "name": "#%%\n"
    }
   },
   "outputs": [
    {
     "data": {
      "text/html": [
       "<div>\n",
       "<style scoped>\n",
       "    .dataframe tbody tr th:only-of-type {\n",
       "        vertical-align: middle;\n",
       "    }\n",
       "\n",
       "    .dataframe tbody tr th {\n",
       "        vertical-align: top;\n",
       "    }\n",
       "\n",
       "    .dataframe thead th {\n",
       "        text-align: right;\n",
       "    }\n",
       "</style>\n",
       "<table border=\"1\" class=\"dataframe\">\n",
       "  <thead>\n",
       "    <tr style=\"text-align: right;\">\n",
       "      <th></th>\n",
       "      <th>id_student</th>\n",
       "      <th>gender</th>\n",
       "      <th>highest_education</th>\n",
       "      <th>age</th>\n",
       "      <th>previous_attempts</th>\n",
       "      <th>disability</th>\n",
       "      <th>first_assignment</th>\n",
       "      <th>date_registration</th>\n",
       "      <th>clicks_before_start</th>\n",
       "      <th>final_result</th>\n",
       "    </tr>\n",
       "  </thead>\n",
       "  <tbody>\n",
       "    <tr>\n",
       "      <th>0</th>\n",
       "      <td>11391</td>\n",
       "      <td>0</td>\n",
       "      <td>1</td>\n",
       "      <td>1</td>\n",
       "      <td>0</td>\n",
       "      <td>0</td>\n",
       "      <td>78.0</td>\n",
       "      <td>-159.0</td>\n",
       "      <td>98.0</td>\n",
       "      <td>1</td>\n",
       "    </tr>\n",
       "    <tr>\n",
       "      <th>1</th>\n",
       "      <td>28400</td>\n",
       "      <td>1</td>\n",
       "      <td>1</td>\n",
       "      <td>1</td>\n",
       "      <td>0</td>\n",
       "      <td>0</td>\n",
       "      <td>70.0</td>\n",
       "      <td>-53.0</td>\n",
       "      <td>215.0</td>\n",
       "      <td>1</td>\n",
       "    </tr>\n",
       "    <tr>\n",
       "      <th>2</th>\n",
       "      <td>30268</td>\n",
       "      <td>1</td>\n",
       "      <td>0</td>\n",
       "      <td>1</td>\n",
       "      <td>0</td>\n",
       "      <td>1</td>\n",
       "      <td>0.0</td>\n",
       "      <td>-92.0</td>\n",
       "      <td>102.0</td>\n",
       "      <td>-1</td>\n",
       "    </tr>\n",
       "    <tr>\n",
       "      <th>3</th>\n",
       "      <td>31604</td>\n",
       "      <td>1</td>\n",
       "      <td>0</td>\n",
       "      <td>1</td>\n",
       "      <td>0</td>\n",
       "      <td>0</td>\n",
       "      <td>72.0</td>\n",
       "      <td>-52.0</td>\n",
       "      <td>169.0</td>\n",
       "      <td>1</td>\n",
       "    </tr>\n",
       "    <tr>\n",
       "      <th>4</th>\n",
       "      <td>32885</td>\n",
       "      <td>1</td>\n",
       "      <td>0</td>\n",
       "      <td>0</td>\n",
       "      <td>0</td>\n",
       "      <td>0</td>\n",
       "      <td>69.0</td>\n",
       "      <td>-176.0</td>\n",
       "      <td>295.0</td>\n",
       "      <td>1</td>\n",
       "    </tr>\n",
       "  </tbody>\n",
       "</table>\n",
       "</div>"
      ],
      "text/plain": [
       "   id_student  gender  highest_education  age  previous_attempts  disability  \\\n",
       "0       11391       0                  1    1                  0           0   \n",
       "1       28400       1                  1    1                  0           0   \n",
       "2       30268       1                  0    1                  0           1   \n",
       "3       31604       1                  0    1                  0           0   \n",
       "4       32885       1                  0    0                  0           0   \n",
       "\n",
       "   first_assignment  date_registration  clicks_before_start  final_result  \n",
       "0              78.0             -159.0                 98.0             1  \n",
       "1              70.0              -53.0                215.0             1  \n",
       "2               0.0              -92.0                102.0            -1  \n",
       "3              72.0              -52.0                169.0             1  \n",
       "4              69.0             -176.0                295.0             1  "
      ]
     },
     "execution_count": 6,
     "metadata": {},
     "output_type": "execute_result"
    }
   ],
   "source": [
    "education_mapping = {\n",
    "    'No Formal quals': 0,\n",
    "    'Lower Than A Level': 0,\n",
    "    'A Level or Equivalent': 0,\n",
    "    'HE Qualification': 1,\n",
    "    'Post Graduate Qualification': 1\n",
    "}\n",
    "\n",
    "age_mapping = {\n",
    "    '0-35': 0,\n",
    "    '35-55': 1,\n",
    "    '55<=': 1\n",
    "}\n",
    "\n",
    "grade_mapping = {\n",
    "    'Withdrawn': -1,\n",
    "    'Fail': -1,\n",
    "    'Pass': 1,\n",
    "    'Distinction': 1\n",
    "}\n",
    "\n",
    "gender_mapping = {\n",
    "    'F': 1,\n",
    "    'M': 0\n",
    "}\n",
    "\n",
    "disability_mapping = {\n",
    "    'N': 0,\n",
    "    'Y': 1\n",
    "}\n",
    "\n",
    "data['highest_education'] = data['highest_education'].map(education_mapping)\n",
    "data['age'] = data['age'].map(age_mapping)\n",
    "data['final_result'] = data['final_result'].map(grade_mapping)\n",
    "data['gender'] = data['gender'].map(gender_mapping)\n",
    "data['disability'] = data['disability'].map(disability_mapping)\n",
    "\n",
    "data.head()"
   ]
  },
  {
   "cell_type": "code",
   "execution_count": 7,
   "metadata": {
    "pycharm": {
     "name": "#%%\n"
    }
   },
   "outputs": [],
   "source": [
    "from sklearn.model_selection import train_test_split\n",
    "\n",
    "X_train, X_test, y_train, y_test = train_test_split(data[['first_assignment', 'highest_education', 'age', 'gender', 'previous_attempts', 'disability', 'clicks_before_start', 'date_registration']],\n",
    "                                                    data['final_result'], test_size=0.3, random_state=2)"
   ]
  },
  {
   "cell_type": "markdown",
   "metadata": {},
   "source": [
    "### Decision Tree"
   ]
  },
  {
   "cell_type": "code",
   "execution_count": 8,
   "metadata": {
    "pycharm": {
     "name": "#%%\n"
    }
   },
   "outputs": [
    {
     "data": {
      "text/plain": [
       "DecisionTreeClassifier(class_weight='balanced', min_samples_split=10)"
      ]
     },
     "execution_count": 8,
     "metadata": {},
     "output_type": "execute_result"
    }
   ],
   "source": [
    "from sklearn.tree import DecisionTreeClassifier\n",
    "\n",
    "decision_tree = DecisionTreeClassifier(class_weight='balanced', min_samples_split=10)\n",
    "decision_tree.fit(X_train, y_train)"
   ]
  },
  {
   "cell_type": "markdown",
   "metadata": {},
   "source": [
    "### Random Forest"
   ]
  },
  {
   "cell_type": "code",
   "execution_count": 9,
   "metadata": {
    "pycharm": {
     "name": "#%%\n"
    }
   },
   "outputs": [
    {
     "data": {
      "text/plain": [
       "RandomForestClassifier(class_weight='balanced', min_samples_split=10, n_jobs=-1)"
      ]
     },
     "execution_count": 9,
     "metadata": {},
     "output_type": "execute_result"
    }
   ],
   "source": [
    "from sklearn.ensemble import RandomForestClassifier\n",
    "\n",
    "random_forest = RandomForestClassifier(n_jobs=-1, class_weight='balanced', min_samples_split=10)\n",
    "random_forest.fit(X_train, y_train)\n"
   ]
  },
  {
   "cell_type": "markdown",
   "metadata": {
    "pycharm": {
     "name": "#%% md\n"
    }
   },
   "source": [
    "### BART"
   ]
  },
  {
   "cell_type": "code",
   "execution_count": 9,
   "metadata": {
    "pycharm": {
     "name": "#%%\n"
    }
   },
   "outputs": [
    {
     "data": {
      "text/plain": [
       "SklearnModel(alpha=0.9, beta=1.5, n_chains=2, n_trees=50)"
      ]
     },
     "execution_count": 9,
     "metadata": {},
     "output_type": "execute_result"
    }
   ],
   "source": [
    "from bartpy.sklearnmodel import SklearnModel as BART\n",
    "\n",
    "bart = BART(n_burn=200, n_chains=2, n_samples=200, n_trees=50, alpha=0.9, beta=1.5)\n",
    "bart.fit(X_train, y_train)"
   ]
  },
  {
   "cell_type": "markdown",
   "metadata": {},
   "source": [
    "### KNN Classifier"
   ]
  },
  {
   "cell_type": "code",
   "execution_count": 10,
   "metadata": {
    "pycharm": {
     "name": "#%%\n"
    }
   },
   "outputs": [
    {
     "data": {
      "text/plain": [
       "KNeighborsClassifier(n_jobs=-1, n_neighbors=100)"
      ]
     },
     "execution_count": 10,
     "metadata": {},
     "output_type": "execute_result"
    }
   ],
   "source": [
    "from sklearn.neighbors import KNeighborsClassifier\n",
    "\n",
    "knn = KNeighborsClassifier(n_neighbors=100, n_jobs=-1)\n",
    "knn.fit(X_train, y_train)"
   ]
  },
  {
   "cell_type": "markdown",
   "metadata": {},
   "source": [
    "### SVC\n",
    "#### Grid search for optimal parameters, do not run the grid search again (it lasts for hours, literally)"
   ]
  },
  {
   "cell_type": "code",
   "execution_count": null,
   "metadata": {
    "pycharm": {
     "name": "#%%\n"
    }
   },
   "outputs": [
    {
     "name": "stdout",
     "output_type": "stream",
     "text": [
      "Result of grid search: {'C': 1000, 'gamma': 0.0001, 'kernel': 'rbf'}\n"
     ]
    }
   ],
   "source": [
    "from sklearn.svm import SVC\n",
    "# from sklearn.model_selection import GridSearchCV\n",
    "#\n",
    "# defining parameter range\n",
    "# param_grid = {'C': [0.1, 1, 10, 100, 1000],\n",
    "#               'gamma': [1, 0.1, 0.01, 0.001, 0.0001],\n",
    "#               'kernel': ['rbf']}\n",
    "#\n",
    "# grid = GridSearchCV(SVC(), param_grid, refit = True, verbose = 3)\n",
    "#\n",
    "# # fitting the model for grid search\n",
    "# grid.fit(X_train, y_train)\n",
    "# print(grid.best_params_)\n",
    "\n",
    "print(\"Result of grid search: {'C': 1000, 'gamma': 0.0001, 'kernel': 'rbf'}\")\n",
    "\n",
    "svc = SVC(C=1000, gamma=0.001)\n",
    "svc.fit(X_train, y_train)"
   ]
  },
  {
   "cell_type": "code",
   "execution_count": null,
   "metadata": {
    "pycharm": {
     "name": "#%%\n"
    }
   },
   "outputs": [],
   "source": [
    "from sklearn.metrics import accuracy_score, precision_score, f1_score, recall_score\n",
    "\n",
    "results = []\n",
    "\n",
    "for model in [decision_tree, random_forest, bart, knn, svc]:\n",
    "    for score in [precision_score, recall_score, f1_score, accuracy_score]:\n",
    "        if model == bart:\n",
    "            results.append(score(y_pred=[1 if res >= 0 else -1 for res in model.predict(X_test)], y_true=y_test))\n",
    "        else:\n",
    "            results.append(score(y_pred=model.predict(X_test), y_true=y_test))\n",
    "split = np.array_split(results, 5)\n",
    "\n",
    "\n",
    "multi = pd.MultiIndex.from_product(\n",
    "    [['Pass vs Fail'], ['Precision', 'Recall', 'F1', 'Accuracy']],\n",
    "    names=['Final result', 'Metric'])\n",
    "\n",
    "results = pd.DataFrame(index=multi, columns=['Decision tree', 'Random forest', 'BART', 'KNN', 'SVC'],\n",
    "                       data={'Decision tree': split[0], 'Random forest': split[1], 'BART': split[2], 'KNN': split[3], 'SVC': split[4]})\n",
    "results\n"
   ]
  },
  {
   "cell_type": "markdown",
   "metadata": {},
   "source": [
    "### Predviđanje u koji <i> IMD </i> raspon student upada\n",
    "\n",
    "[IMD (engl. <i>Index of multiple deprivation</i>)](https://en.wikipedia.org/wiki/Multiple_deprivation_index) predstavlja mjeru siromaštva po manjim regijama (cjelinama) unutar Velike Britanije. Indeks se temelji na 7 faktora od kojih svaki ima svoju težinu.\n",
    "\n",
    "<ul>\n",
    "    <li>Prihod (22.5%)</li>\n",
    "    <li>Zaposlenost (22.5%)</li>\n",
    "    <li>Obrazovanje (13.5%)</li>\n",
    "    <li>Zdravlje (13.5%)</li>\n",
    "    <li>Zločin (9.3%)</li>\n",
    "    <li>Prepreke za stanovanje i usluge (9.3%)</li>\n",
    "    <li>Životno okruženje (9.3%)</li>\n",
    "</ul>\n",
    "\n",
    "Na temelju prosječnog rezultata studenta u svim predanim zadacima, starosti i razini obrazovanja pokušati će se odrediti kojem rasponu student pripada. Manji rasponi (npr. <i>0-10%</i>) označavaju siromašnije regije, a veći rasponi (npr. <i>80-90%</i>) označavaju manje siromašne regije (ne nužno bogate)."
   ]
  },
  {
   "cell_type": "code",
   "execution_count": 10,
   "metadata": {},
   "outputs": [
    {
     "data": {
      "text/plain": [
       "<AxesSubplot:ylabel='imd_band'>"
      ]
     },
     "execution_count": 10,
     "metadata": {},
     "output_type": "execute_result"
    },
    {
     "data": {
      "image/png": "[encoded data removed]",
      "text/plain": [
       "<Figure size 1440x720 with 6 Axes>"
      ]
     },
     "metadata": {
      "needs_background": "light"
     },
     "output_type": "display_data"
    }
   ],
   "source": [
    "from sklearn.preprocessing import minmax_scale, MinMaxScaler\n",
    "from sklearn.neighbors import KNeighborsClassifier\n",
    "\n",
    "fig, axs = plt.subplots(2, 3, figsize=(20, 10))\n",
    "\n",
    "scaler = MinMaxScaler()\n",
    "\n",
    "student_info.loc[student_info['imd_band'] == '10-20', 'imd_band'] = '10-20%'\n",
    "unique_regions = student_info.groupby('imd_band').size().reset_index(name='counts')\n",
    "student_avg_score = student_assessment[['id_student', 'score']].groupby('id_student').mean()\n",
    "student_avg_score = pd.merge(student_info, student_avg_score, on='id_student', how='left')\n",
    "student_avg_score['score'].fillna(0, inplace=True)\n",
    "student_avg_score.dropna(subset = ['imd_band'], inplace=True)\n",
    "\n",
    "student_avg_score.loc[(student_avg_score['highest_education'] == 'No Formal quals') | (student_avg_score['highest_education'] == 'A Level or Equivalent') | (student_avg_score['highest_education'] == 'Lower Than A Level'), 'highest_education'] = 0\n",
    "student_avg_score.loc[(student_avg_score['highest_education'] == 'HE Qualification') | (student_avg_score['highest_education'] == 'Post Graduate Qualification') , 'highest_education'] = 1 \n",
    "student_avg_score['highest_education'] = pd.to_numeric(student_avg_score['highest_education'])\n",
    "\n",
    "student_avg_score.loc[(student_avg_score['age_band'] == '0-35'), 'age_band'] = 0 \n",
    "student_avg_score.loc[(student_avg_score['age_band'] == '55<=') | (student_avg_score['age_band'] == '35-55'), 'age_band'] = 1\n",
    "student_avg_score['age_band'] = pd.to_numeric(student_avg_score['age_band'])\n",
    "\n",
    "student_avg_score_scaled = scaler.fit_transform(student_avg_score[['score', 'highest_education', 'age_band']])\n",
    "student_avg_score['score'] = student_avg_score_scaled[:,0]\n",
    "\n",
    "imd_avg_score = student_avg_score[['imd_band', 'score']].groupby('imd_band', as_index=False).mean()\n",
    "imd_avg_edu = student_avg_score[['imd_band', 'highest_education']].groupby('imd_band', as_index=False).mean()\n",
    "imd_avg_age = student_avg_score[['imd_band', 'age_band']].groupby('imd_band', as_index=False).mean()\n",
    "\n",
    "imd_avg_score.plot(x='imd_band', y='score', ax=axs[0, 0], kind='barh')\n",
    "imd_avg_edu.plot(x='imd_band', y='highest_education', ax=axs[0, 1], kind='barh')\n",
    "imd_avg_age.plot(x='imd_band', y='age_band', ax=axs[0, 2], kind='barh')\n",
    "\n",
    "student_avg_score.loc[(student_avg_score['imd_band'] == '0-10%') | \n",
    "                     (student_avg_score['imd_band'] == '10-20%') |\n",
    "                     (student_avg_score['imd_band'] == '20-30%') |\n",
    "                     (student_avg_score['imd_band'] == '30-40%') |\n",
    "                     (student_avg_score['imd_band'] == '40-50%'), 'imd_band'] = 0\n",
    "\n",
    "student_avg_score.loc[(student_avg_score['imd_band'] == '50-60%') | \n",
    "                     (student_avg_score['imd_band'] == '60-70%') |\n",
    "                     (student_avg_score['imd_band'] == '70-80%') |\n",
    "                     (student_avg_score['imd_band'] == '80-90%') |\n",
    "                     (student_avg_score['imd_band'] == '90-100%'), 'imd_band'] = 1\n",
    "\n",
    "student_avg_score['imd_band'] = pd.to_numeric(student_avg_score['imd_band'])\n",
    "\n",
    "\n",
    "imd_avg_score = student_avg_score[['imd_band', 'score']].groupby('imd_band', as_index=False).mean()\n",
    "imd_avg_edu = student_avg_score[['imd_band', 'highest_education']].groupby('imd_band', as_index=False).mean()\n",
    "imd_avg_age = student_avg_score[['imd_band', 'age_band']].groupby('imd_band', as_index=False).mean()\n",
    "\n",
    "imd_avg_score.plot(x='imd_band', y='score', ax=axs[1, 0], kind='barh')\n",
    "imd_avg_edu.plot(x='imd_band', y='highest_education', ax=axs[1, 1], kind='barh')\n",
    "imd_avg_age.plot(x='imd_band', y='age_band', ax=axs[1, 2], kind='barh')"
   ]
  },
  {
   "cell_type": "markdown",
   "metadata": {},
   "source": [
    "Već kroz eksploratornu analizu podataka može se vidjeti blagi rast u prosječnom rezultatu u manje siromašnim regijama. Također, pokazuje se i da u pravilu siromašnije regije imaju mlađe stanovništvo te manje obrazovano stanovništvo. Naravno, to ne govori puno i potrebno je primijeniti model prije donošenja zaključaka..\n",
    "\n",
    "Prije primjene samih modela varijabla <i>imd_band</i> će se pretvoriti u dihotomnu varijablu gdje će svi rasponi od uključivo \"40-50%\" biti označeni s 0, a svi rasponi iznad \"40-50%\" će biti označeni s 1. Tako se može reći da se varijabla sada dijeli na siromašnije i manje siromašne regije.\n",
    "\n",
    "Model koji će se koristiti za klasifikaciju je <b><i>k-Nearest Neighbors</i></b>."
   ]
  },
  {
   "cell_type": "code",
   "execution_count": 11,
   "metadata": {},
   "outputs": [
    {
     "name": "stdout",
     "output_type": "stream",
     "text": [
      "Najbolji broj susjeda: 156\n",
      "Preciznost klasifikacije na skupu za provjeru: 0.5632609846479619\n"
     ]
    }
   ],
   "source": [
    "from sklearn.metrics import accuracy_score\n",
    "from sklearn.model_selection import train_test_split\n",
    "#from sklearn.model_selection import GridSearchCV\n",
    "\n",
    "X_train_imd, X_test_imd, y_train_imd, y_test_imd = train_test_split(student_avg_score[['score', 'age_band', 'highest_education']], student_avg_score['imd_band'], test_size=0.3, random_state=2)\n",
    "\n",
    "#parameters = {\"n_neighbors\": range(1, 200)}\n",
    "#knn_imd = GridSearchCV(KNeighborsClassifier(), parameters)\n",
    "#knn_imd.fit(X_train_imd, y_train_imd)\n",
    "\n",
    "print(f\"Najbolji broj susjeda: 156\") # Izračunato gornjim kodom\n",
    "\n",
    "knn_imd = KNeighborsClassifier(n_neighbors=156)\n",
    "knn_imd.fit(X_train_imd, y_train_imd)\n",
    "result_test_imd = knn_imd.predict(X_test_imd)\n",
    "\n",
    "print(f\"Preciznost klasifikacije na skupu za provjeru: {accuracy_score(y_test_imd, result_test_imd)}\")"
   ]
  },
  {
   "cell_type": "markdown",
   "metadata": {},
   "source": [
    "Iz dobivenih rezultata može se zaključiti da model kNN na temelju danih vrijednosti ne može sa sigurnošću odrediti kojem IMD rasponu pripada koji student. Preciznost na skupu za provjeru je svega ~56% što je marginalno bolje nego kad bi model nasumično pogađao.\n",
    "\n",
    "Drugi model koji će se koristiti je <i><b>Random Forest</b></i> model. Razlika je u tome što će se ovaj put modelu predati gotovo sve varijable te će sam model odlučiti koje su najvažnije. Neke od izmjena su u varijabli 'gender' (M → 1, F → 0), u varijabli 'disability' (Y → 1, N → 0) i varijabli 'final_result' (Pass, Distinction → 1, Withdrawn, Fail → 0). Varijable 'code_module', 'code_presentation', 'id_student' i 'region' se neće koristiti."
   ]
  },
  {
   "cell_type": "code",
   "execution_count": 12,
   "metadata": {},
   "outputs": [
    {
     "data": {
      "text/html": [
       "<div>\n",
       "<style scoped>\n",
       "    .dataframe tbody tr th:only-of-type {\n",
       "        vertical-align: middle;\n",
       "    }\n",
       "\n",
       "    .dataframe tbody tr th {\n",
       "        vertical-align: top;\n",
       "    }\n",
       "\n",
       "    .dataframe thead th {\n",
       "        text-align: right;\n",
       "    }\n",
       "</style>\n",
       "<table border=\"1\" class=\"dataframe\">\n",
       "  <thead>\n",
       "    <tr style=\"text-align: right;\">\n",
       "      <th></th>\n",
       "      <th>gender</th>\n",
       "      <th>highest_education</th>\n",
       "      <th>imd_band</th>\n",
       "      <th>age_band</th>\n",
       "      <th>num_of_prev_attempts</th>\n",
       "      <th>studied_credits</th>\n",
       "      <th>disability</th>\n",
       "      <th>final_result</th>\n",
       "      <th>score</th>\n",
       "    </tr>\n",
       "  </thead>\n",
       "  <tbody>\n",
       "    <tr>\n",
       "      <th>0</th>\n",
       "      <td>1</td>\n",
       "      <td>1</td>\n",
       "      <td>1</td>\n",
       "      <td>1</td>\n",
       "      <td>0</td>\n",
       "      <td>240</td>\n",
       "      <td>0</td>\n",
       "      <td>1</td>\n",
       "      <td>0.820000</td>\n",
       "    </tr>\n",
       "    <tr>\n",
       "      <th>1</th>\n",
       "      <td>0</td>\n",
       "      <td>1</td>\n",
       "      <td>0</td>\n",
       "      <td>1</td>\n",
       "      <td>0</td>\n",
       "      <td>60</td>\n",
       "      <td>0</td>\n",
       "      <td>1</td>\n",
       "      <td>0.664000</td>\n",
       "    </tr>\n",
       "    <tr>\n",
       "      <th>2</th>\n",
       "      <td>0</td>\n",
       "      <td>0</td>\n",
       "      <td>0</td>\n",
       "      <td>1</td>\n",
       "      <td>0</td>\n",
       "      <td>60</td>\n",
       "      <td>1</td>\n",
       "      <td>0</td>\n",
       "      <td>0.000000</td>\n",
       "    </tr>\n",
       "    <tr>\n",
       "      <th>3</th>\n",
       "      <td>0</td>\n",
       "      <td>0</td>\n",
       "      <td>1</td>\n",
       "      <td>1</td>\n",
       "      <td>0</td>\n",
       "      <td>60</td>\n",
       "      <td>0</td>\n",
       "      <td>1</td>\n",
       "      <td>0.760000</td>\n",
       "    </tr>\n",
       "    <tr>\n",
       "      <th>4</th>\n",
       "      <td>0</td>\n",
       "      <td>0</td>\n",
       "      <td>1</td>\n",
       "      <td>0</td>\n",
       "      <td>0</td>\n",
       "      <td>60</td>\n",
       "      <td>0</td>\n",
       "      <td>1</td>\n",
       "      <td>0.544000</td>\n",
       "    </tr>\n",
       "    <tr>\n",
       "      <th>...</th>\n",
       "      <td>...</td>\n",
       "      <td>...</td>\n",
       "      <td>...</td>\n",
       "      <td>...</td>\n",
       "      <td>...</td>\n",
       "      <td>...</td>\n",
       "      <td>...</td>\n",
       "      <td>...</td>\n",
       "      <td>...</td>\n",
       "    </tr>\n",
       "    <tr>\n",
       "      <th>32588</th>\n",
       "      <td>0</td>\n",
       "      <td>0</td>\n",
       "      <td>0</td>\n",
       "      <td>0</td>\n",
       "      <td>0</td>\n",
       "      <td>30</td>\n",
       "      <td>0</td>\n",
       "      <td>0</td>\n",
       "      <td>0.000000</td>\n",
       "    </tr>\n",
       "    <tr>\n",
       "      <th>32589</th>\n",
       "      <td>0</td>\n",
       "      <td>0</td>\n",
       "      <td>0</td>\n",
       "      <td>1</td>\n",
       "      <td>0</td>\n",
       "      <td>30</td>\n",
       "      <td>0</td>\n",
       "      <td>1</td>\n",
       "      <td>0.881111</td>\n",
       "    </tr>\n",
       "    <tr>\n",
       "      <th>32590</th>\n",
       "      <td>0</td>\n",
       "      <td>0</td>\n",
       "      <td>0</td>\n",
       "      <td>0</td>\n",
       "      <td>0</td>\n",
       "      <td>30</td>\n",
       "      <td>1</td>\n",
       "      <td>1</td>\n",
       "      <td>0.766667</td>\n",
       "    </tr>\n",
       "    <tr>\n",
       "      <th>32591</th>\n",
       "      <td>0</td>\n",
       "      <td>0</td>\n",
       "      <td>1</td>\n",
       "      <td>1</td>\n",
       "      <td>0</td>\n",
       "      <td>30</td>\n",
       "      <td>0</td>\n",
       "      <td>0</td>\n",
       "      <td>0.915000</td>\n",
       "    </tr>\n",
       "    <tr>\n",
       "      <th>32592</th>\n",
       "      <td>0</td>\n",
       "      <td>1</td>\n",
       "      <td>1</td>\n",
       "      <td>1</td>\n",
       "      <td>0</td>\n",
       "      <td>30</td>\n",
       "      <td>0</td>\n",
       "      <td>1</td>\n",
       "      <td>0.828571</td>\n",
       "    </tr>\n",
       "  </tbody>\n",
       "</table>\n",
       "<p>31482 rows × 9 columns</p>\n",
       "</div>"
      ],
      "text/plain": [
       "       gender  highest_education  imd_band  age_band  num_of_prev_attempts  \\\n",
       "0           1                  1         1         1                     0   \n",
       "1           0                  1         0         1                     0   \n",
       "2           0                  0         0         1                     0   \n",
       "3           0                  0         1         1                     0   \n",
       "4           0                  0         1         0                     0   \n",
       "...       ...                ...       ...       ...                   ...   \n",
       "32588       0                  0         0         0                     0   \n",
       "32589       0                  0         0         1                     0   \n",
       "32590       0                  0         0         0                     0   \n",
       "32591       0                  0         1         1                     0   \n",
       "32592       0                  1         1         1                     0   \n",
       "\n",
       "       studied_credits  disability  final_result     score  \n",
       "0                  240           0             1  0.820000  \n",
       "1                   60           0             1  0.664000  \n",
       "2                   60           1             0  0.000000  \n",
       "3                   60           0             1  0.760000  \n",
       "4                   60           0             1  0.544000  \n",
       "...                ...         ...           ...       ...  \n",
       "32588               30           0             0  0.000000  \n",
       "32589               30           0             1  0.881111  \n",
       "32590               30           1             1  0.766667  \n",
       "32591               30           0             0  0.915000  \n",
       "32592               30           0             1  0.828571  \n",
       "\n",
       "[31482 rows x 9 columns]"
      ]
     },
     "execution_count": 12,
     "metadata": {},
     "output_type": "execute_result"
    }
   ],
   "source": [
    "student_avg_score_rf = student_avg_score.iloc[:,3:]\n",
    "student_avg_score_rf = student_avg_score_rf.drop('region', axis=1)\n",
    "student_avg_score_rf['disability'] = student_avg_score_rf['disability'].astype('category')\n",
    "student_avg_score_rf['disability'] = student_avg_score_rf['disability'].cat.codes\n",
    "\n",
    "student_avg_score_rf['gender'] = student_avg_score_rf['gender'].astype('category')\n",
    "student_avg_score_rf['gender'] = student_avg_score_rf['gender'].cat.codes\n",
    "\n",
    "student_avg_score_rf.loc[(student_avg_score_rf['final_result'] == 'Pass') | (student_avg_score_rf['final_result'] == 'Distinction'), 'final_result'] = 1\n",
    "student_avg_score_rf.loc[(student_avg_score_rf['final_result'] == 'Fail') | (student_avg_score_rf['final_result'] == 'Withdrawn'), 'final_result'] = 0\n",
    "student_avg_score_rf['final_result'] = student_avg_score_rf['final_result'].astype('category')\n",
    "student_avg_score_rf['final_result'] = student_avg_score_rf['final_result'].cat.codes\n",
    "\n",
    "student_avg_score_rf"
   ]
  },
  {
   "cell_type": "code",
   "execution_count": 13,
   "metadata": {},
   "outputs": [
    {
     "name": "stdout",
     "output_type": "stream",
     "text": [
      "Preciznost klasifikacije na skupu za provjeru: 0.5752249867654844\n",
      "\n",
      "Najbitnije značajke:\n",
      "-------------------\n",
      "score                   0.500668\n",
      "studied_credits         0.144563\n",
      "final_result            0.097675\n",
      "gender                  0.056443\n",
      "num_of_prev_attempts    0.052127\n",
      "disability              0.052094\n",
      "age_band                0.051586\n",
      "highest_education       0.044845\n",
      "dtype: float64\n"
     ]
    }
   ],
   "source": [
    "from sklearn.ensemble import RandomForestClassifier\n",
    "from sklearn.model_selection import train_test_split\n",
    "from sklearn import metrics\n",
    "from sklearn.model_selection import RandomizedSearchCV\n",
    "\n",
    "#n_estimators = [int(x) for x in np.linspace(start = 200, stop = 2000, num = 10)]\n",
    "#max_features = ['auto', 'sqrt']\n",
    "#max_depth = [int(x) for x in np.linspace(10, 110, num = 11)]\n",
    "#max_depth.append(None)\n",
    "#min_samples_split = [2, 5, 10]\n",
    "#min_samples_leaf = [1, 2, 4]\n",
    "#bootstrap = [True, False]\n",
    "\n",
    "#random_grid = {'n_estimators': n_estimators,\n",
    "#               'max_features': max_features,\n",
    "#               'max_depth': max_depth,\n",
    "#               'min_samples_split': min_samples_split,\n",
    "#               'min_samples_leaf': min_samples_leaf,\n",
    "#               'bootstrap': bootstrap}\n",
    "\n",
    "'''Najbolji parametri: \n",
    "{'n_estimators': 1600,\n",
    " 'min_samples_split': 2,\n",
    " 'min_samples_leaf': 4,\n",
    " 'max_features': 'sqrt',\n",
    " 'max_depth': 10,\n",
    " 'bootstrap': True}'''\n",
    "\n",
    "\n",
    "X_rf_imd = student_avg_score_rf[['gender', 'highest_education', 'age_band', 'num_of_prev_attempts', 'studied_credits', 'disability', 'final_result', 'score']]  \n",
    "y_rf_imd = student_avg_score_rf['imd_band']\n",
    "\n",
    "X_train_rf_imd, X_test_rf_imd, y_train_rf_imd, y_test_rf_imd = train_test_split(X_rf_imd, y_rf_imd, test_size=0.3)\n",
    "\n",
    "rfmodel = RandomForestClassifier(n_estimators=1600, min_samples_split=2, min_samples_leaf=4, max_features='sqrt', max_depth=10, bootstrap=True)\n",
    "rfmodel.fit(X_train_rf_imd,y_train_rf_imd)\n",
    "\n",
    "result_rf_imd = rfmodel.predict(X_test_rf_imd)\n",
    "print(f\"Preciznost klasifikacije na skupu za provjeru: {accuracy_score(y_test_rf_imd, result_rf_imd)}\")\n",
    "\n",
    "feature_imp = pd.Series(rfmodel.feature_importances_,index=X_rf_imd.columns).sort_values(ascending=False)\n",
    "print(\"\\nNajbitnije značajke:\")\n",
    "print(\"-------------------\")\n",
    "print(feature_imp)"
   ]
  },
  {
   "cell_type": "markdown",
   "metadata": {},
   "source": [
    "Kao što se može vidjeti ni model slučajnih šuma nije uspio uspješno klasificirati studente u njihove pripadajuće IMD raspone. Doduše, to je možda i bilo za očekivati. Glavni nedostatak IMD-a je da se mjeri drukčije u različitim regijama VB pa je i samim time i bilo za očekivati da modeli neće moći najbolje razlikovati studente. Bez obzira na to, i inače bi teško bilo klasificirati studente u IMD raspon jer regija iz koje je student nije nužno korelirana s njegovim uspjehom."
   ]
  }
 ],
 "metadata": {
  "kernelspec": {
   "display_name": "Python 3",
   "language": "python",
   "name": "python3"
  },
  "language_info": {
   "codemirror_mode": {
    "name": "ipython",
    "version": 3
   },
   "file_extension": ".py",
   "mimetype": "text/x-python",
   "name": "python",
   "nbconvert_exporter": "python",
   "pygments_lexer": "ipython3",
   "version": "3.8.8"
  }
 },
 "nbformat": 4,
 "nbformat_minor": 1
}
